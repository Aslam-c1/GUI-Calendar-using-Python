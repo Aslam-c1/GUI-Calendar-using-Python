{
 "cells": [
  {
   "cell_type": "code",
   "execution_count": 1,
   "id": "9a576f30-1f38-4998-b1d6-c829e5672016",
   "metadata": {},
   "outputs": [],
   "source": [
    "from tkinter import *\n",
    "import calendar\n",
    "\n",
    "def Calendar_See():\n",
    "    window = Tk()\n",
    "    window.config(background=\"Yellow\")  # Fixed typo here\n",
    "    window.title(\"Complete year calendar\")\n",
    "    window.geometry(\"570x620\")\n",
    "    get_year = int(year_entry.get())\n",
    "    window_content = calendar.calendar(get_year)\n",
    "    year_cal = Label(window, text=window_content, font=(\"Arial\", 12, \"bold\"))\n",
    "    year_cal.grid(row=5, column=1, padx=20)\n",
    "    window.mainloop()\n",
    "\n",
    "if __name__ == '__main__':\n",
    "    root = Tk()\n",
    "    root.config(background=\"Yellow\")  # Configured root window background color\n",
    "    root.title(\"GUI Calendar\")\n",
    "    root.geometry(\"280x170\")\n",
    "    \n",
    "    name = Label(root, text=\"Calendar\", bg=\"light pink\", font=(\"Arial\", 20, \"bold\"))\n",
    "    name.grid(row=1, column=1)\n",
    "    \n",
    "    year = Label(root, text=\"Enter the year\", bg=\"light blue\", font=(\"Arial\", 15, \"bold\"))\n",
    "    year.grid(row=2, column=1)\n",
    "    \n",
    "    year_entry = Entry(root, font=(\"Arial\", 15, \"bold\"))\n",
    "    year_entry.grid(row=3, column=1)\n",
    "    \n",
    "    show_button = Button(root, text=\"Show Calendar!\", fg=\"red\", bg=\"black\", font=(\"Arial\", 15, \"bold\"), command=Calendar_See)\n",
    "    show_button.grid(row=4, column=1)\n",
    "    \n",
    "    root.mainloop()\n"
   ]
  }
 ],
 "metadata": {
  "kernelspec": {
   "display_name": "Python 3 (ipykernel)",
   "language": "python",
   "name": "python3"
  },
  "language_info": {
   "codemirror_mode": {
    "name": "ipython",
    "version": 3
   },
   "file_extension": ".py",
   "mimetype": "text/x-python",
   "name": "python",
   "nbconvert_exporter": "python",
   "pygments_lexer": "ipython3",
   "version": "3.12.4"
  }
 },
 "nbformat": 4,
 "nbformat_minor": 5
}
